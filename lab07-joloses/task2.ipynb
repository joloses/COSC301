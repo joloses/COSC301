{
 "cells": [
  {
   "cell_type": "markdown",
   "metadata": {},
   "source": [
    "## Task 2 - Plotting using Seaborn \n",
    "\n",
    "\n",
    "`seaborn` is a statistical data visualization library layer that provides a high-level interface for drawing statistical graphics and some convenient functions for plotting data frames.\n",
    "\n",
    "You may need to install `seaborn`\n",
    "\n",
    "`conda install seaborn`<br>\n",
    "\n",
    "and just in case it's not the latest version, go ahead and update it:\n",
    "\n",
    "`conda update seaborn`\n"
   ]
  },
  {
   "cell_type": "code",
   "execution_count": 1,
   "metadata": {},
   "outputs": [],
   "source": [
    "# Usually all the import statements are at the top of the file\n",
    "\n",
    "import pandas as pd\n",
    "import seaborn as sns\n",
    "import numpy as np\n",
    "import os"
   ]
  },
  {
   "cell_type": "code",
   "execution_count": 2,
   "metadata": {},
   "outputs": [],
   "source": [
    "# Themes and colours in Seaborn\n",
    "\n",
    "# There are five preset seaborn themes: darkgrid, whitegrid, dark, white, and ticks. \n",
    "# They are each suited to different applications and personal preferences.\n",
    "# You can see what they look like [here](https://seaborn.pydata.org/tutorial/aesthetics.html#seaborn-figure-styles)\n",
    "\n",
    "# Just for fun, we're going to set the theme to be a nice one:\n",
    "sns.set_theme(style=\"ticks\",\n",
    "              font_scale=1.3, # This scales the fonts slightly higher\n",
    "             )\n",
    "# And we're going to remove the top and right axis lines\n",
    "import matplotlib.pyplot as plt\n",
    "plt.rc(\"axes.spines\", top=False, right=False)"
   ]
  },
  {
   "cell_type": "markdown",
   "metadata": {},
   "source": [
    "### 2.1: Load data \n",
    "\n",
    "Without downloading the csv file to your repo, load the \"*BCCDC_COVID19.csv*\" file using the direct URL: \"[BCCDC_COVID19_Dashboard_Case_Details.csv](http://www.bccdc.ca/Health-Info-Site/Documents/BCCDC_COVID19_Dashboard_Case_Details.csv)\".\n",
    "\n",
    "**DO NOT DOWNLOAD THE DATA TO YOUR REPOSITORY!**\n",
    "\n",
    "Use `pandas` module/package and the `read_csv()` function to load the data by passing in the URL and then save the data in a variable called `df`."
   ]
  },
  {
   "cell_type": "code",
   "execution_count": 3,
   "metadata": {},
   "outputs": [
    {
     "data": {
      "text/html": [
       "<div>\n",
       "<style scoped>\n",
       "    .dataframe tbody tr th:only-of-type {\n",
       "        vertical-align: middle;\n",
       "    }\n",
       "\n",
       "    .dataframe tbody tr th {\n",
       "        vertical-align: top;\n",
       "    }\n",
       "\n",
       "    .dataframe thead th {\n",
       "        text-align: right;\n",
       "    }\n",
       "</style>\n",
       "<table border=\"1\" class=\"dataframe\">\n",
       "  <thead>\n",
       "    <tr style=\"text-align: right;\">\n",
       "      <th></th>\n",
       "      <th>Reported_Date</th>\n",
       "      <th>HA</th>\n",
       "      <th>Sex</th>\n",
       "      <th>Age_Group</th>\n",
       "      <th>Classification_Reported</th>\n",
       "    </tr>\n",
       "  </thead>\n",
       "  <tbody>\n",
       "    <tr>\n",
       "      <th>0</th>\n",
       "      <td>2020-01-29</td>\n",
       "      <td>Out of Canada</td>\n",
       "      <td>M</td>\n",
       "      <td>40-49</td>\n",
       "      <td>Lab-diagnosed</td>\n",
       "    </tr>\n",
       "    <tr>\n",
       "      <th>1</th>\n",
       "      <td>2020-02-06</td>\n",
       "      <td>Vancouver Coastal</td>\n",
       "      <td>F</td>\n",
       "      <td>50-59</td>\n",
       "      <td>Lab-diagnosed</td>\n",
       "    </tr>\n",
       "    <tr>\n",
       "      <th>2</th>\n",
       "      <td>2020-02-10</td>\n",
       "      <td>Out of Canada</td>\n",
       "      <td>F</td>\n",
       "      <td>20-29</td>\n",
       "      <td>Lab-diagnosed</td>\n",
       "    </tr>\n",
       "    <tr>\n",
       "      <th>3</th>\n",
       "      <td>2020-02-10</td>\n",
       "      <td>Out of Canada</td>\n",
       "      <td>M</td>\n",
       "      <td>30-39</td>\n",
       "      <td>Lab-diagnosed</td>\n",
       "    </tr>\n",
       "    <tr>\n",
       "      <th>4</th>\n",
       "      <td>2020-02-18</td>\n",
       "      <td>Interior</td>\n",
       "      <td>F</td>\n",
       "      <td>30-39</td>\n",
       "      <td>Lab-diagnosed</td>\n",
       "    </tr>\n",
       "    <tr>\n",
       "      <th>...</th>\n",
       "      <td>...</td>\n",
       "      <td>...</td>\n",
       "      <td>...</td>\n",
       "      <td>...</td>\n",
       "      <td>...</td>\n",
       "    </tr>\n",
       "    <tr>\n",
       "      <th>387931</th>\n",
       "      <td>2022-10-29</td>\n",
       "      <td>Northern</td>\n",
       "      <td>M</td>\n",
       "      <td>60-69</td>\n",
       "      <td>Lab-diagnosed</td>\n",
       "    </tr>\n",
       "    <tr>\n",
       "      <th>387932</th>\n",
       "      <td>2022-10-29</td>\n",
       "      <td>Interior</td>\n",
       "      <td>F</td>\n",
       "      <td>80-89</td>\n",
       "      <td>Lab-diagnosed</td>\n",
       "    </tr>\n",
       "    <tr>\n",
       "      <th>387933</th>\n",
       "      <td>2022-10-29</td>\n",
       "      <td>Vancouver Island</td>\n",
       "      <td>F</td>\n",
       "      <td>80-89</td>\n",
       "      <td>Lab-diagnosed</td>\n",
       "    </tr>\n",
       "    <tr>\n",
       "      <th>387934</th>\n",
       "      <td>2022-10-29</td>\n",
       "      <td>Vancouver Coastal</td>\n",
       "      <td>M</td>\n",
       "      <td>30-39</td>\n",
       "      <td>Lab-diagnosed</td>\n",
       "    </tr>\n",
       "    <tr>\n",
       "      <th>387935</th>\n",
       "      <td>2022-10-29</td>\n",
       "      <td>Fraser</td>\n",
       "      <td>M</td>\n",
       "      <td>30-39</td>\n",
       "      <td>Lab-diagnosed</td>\n",
       "    </tr>\n",
       "  </tbody>\n",
       "</table>\n",
       "<p>387936 rows × 5 columns</p>\n",
       "</div>"
      ],
      "text/plain": [
       "       Reported_Date                 HA Sex Age_Group Classification_Reported\n",
       "0         2020-01-29      Out of Canada   M     40-49           Lab-diagnosed\n",
       "1         2020-02-06  Vancouver Coastal   F     50-59           Lab-diagnosed\n",
       "2         2020-02-10      Out of Canada   F     20-29           Lab-diagnosed\n",
       "3         2020-02-10      Out of Canada   M     30-39           Lab-diagnosed\n",
       "4         2020-02-18           Interior   F     30-39           Lab-diagnosed\n",
       "...              ...                ...  ..       ...                     ...\n",
       "387931    2022-10-29           Northern   M     60-69           Lab-diagnosed\n",
       "387932    2022-10-29           Interior   F     80-89           Lab-diagnosed\n",
       "387933    2022-10-29   Vancouver Island   F     80-89           Lab-diagnosed\n",
       "387934    2022-10-29  Vancouver Coastal   M     30-39           Lab-diagnosed\n",
       "387935    2022-10-29             Fraser   M     30-39           Lab-diagnosed\n",
       "\n",
       "[387936 rows x 5 columns]"
      ]
     },
     "execution_count": 3,
     "metadata": {},
     "output_type": "execute_result"
    }
   ],
   "source": [
    "# Your Solution here\n",
    "df = pd.read_csv(\"http://www.bccdc.ca/Health-Info-Site/Documents/BCCDC_COVID19_Dashboard_Case_Details.csv\")\n",
    "df"
   ]
  },
  {
   "cell_type": "markdown",
   "metadata": {},
   "source": [
    "### 2.2: Counts of cases by Sex \n",
    "Using [`sns.countplot()`](https://seaborn.pydata.org/generated/seaborn.countplot.html?highlight=countplot#seaborn.countplot), plot the number of all female and male cases. \n",
    "\n",
    "Set the title to be \"Number of COVID-19 cases by Sex\". \n",
    "\n",
    "*Hint: The documentation above contains some examples that might help you get started*\n",
    "\n",
    "#### Sample output\n",
    "<img src=\"./images/bar1.png\" width=\"400px\" />"
   ]
  },
  {
   "cell_type": "code",
   "execution_count": 13,
   "metadata": {},
   "outputs": [
    {
     "data": {
      "text/plain": [
       "<AxesSubplot:xlabel='count', ylabel='Sex'>"
      ]
     },
     "execution_count": 13,
     "metadata": {},
     "output_type": "execute_result"
    },
    {
     "data": {
      "image/png": "[encoded data removed]",
      "text/plain": [
       "<Figure size 640x480 with 1 Axes>"
      ]
     },
     "metadata": {},
     "output_type": "display_data"
    }
   ],
   "source": [
    "# Your Solution here\n",
    "sns.countplot(data = df, y = \"Sex\")"
   ]
  },
  {
   "cell_type": "markdown",
   "metadata": {},
   "source": [
    "### 2.3: Counts of cases by Age Group \n",
    "\n",
    "Plot the counts of cases by age group, and order the y-axis by increasing age (use the `order` parameter of the `countplot()` function).\n",
    "\n",
    "<img src=\"images/bar_age.png\" width=\"400px\">"
   ]
  },
  {
   "cell_type": "code",
   "execution_count": 4,
   "metadata": {},
   "outputs": [
    {
     "data": {
      "text/plain": [
       "<AxesSubplot:xlabel='count', ylabel='Age_Group'>"
      ]
     },
     "execution_count": 4,
     "metadata": {},
     "output_type": "execute_result"
    },
    {
     "data": {
      "image/png": "[encoded data removed]",
      "text/plain": [
       "<Figure size 640x480 with 1 Axes>"
      ]
     },
     "metadata": {},
     "output_type": "display_data"
    }
   ],
   "source": [
    "# Your Solution here\n",
    "ageOrder = [\"<10\", \"10-19\", \"20-29\", \"30-39\", \"40-49\", \"50-59\", \"60-69\", \"70-79\", \"80-89\", \"90+\", \"Unknown\"]\n",
    "sns.countplot(data = df, y = \"Age_Group\", order = ageOrder)"
   ]
  },
  {
   "cell_type": "markdown",
   "metadata": {},
   "source": [
    "### 2.4: Cases by regional health authority \n",
    "\n",
    "Using `set()` data type, find the all the different regions in `df['HA']`. In the next step, print the set containing the different regions. Finally, using [`sns.countplot()`](https://seaborn.pydata.org/generated/seaborn.countplot.html?highlight=countplot#seaborn.countplot), plot a horizontal bar chart of number of cases based on their regions.\n",
    "\n",
    "\n",
    "*Hint: Your plot doesn't have to look exactly like this, but please do explore the [possible color palettes](https://seaborn.pydata.org/tutorial/color_palettes.html). You can specify the colour palette by passing in the keyword like this: `palette='colorblind'`.*\n",
    "\n",
    "#### Sample output\n",
    "<img src=\"images/hbar.png\" width=\"400px\" />"
   ]
  },
  {
   "cell_type": "code",
   "execution_count": 43,
   "metadata": {},
   "outputs": [
    {
     "name": "stdout",
     "output_type": "stream",
     "text": [
      "{'Vancouver Island', 'Fraser', 'Vancouver Coastal', 'Northern', 'Interior', 'Out of Canada'}\n"
     ]
    },
    {
     "data": {
      "text/plain": [
       "<AxesSubplot:xlabel='count', ylabel='HA'>"
      ]
     },
     "execution_count": 43,
     "metadata": {},
     "output_type": "execute_result"
    },
    {
     "data": {
      "image/png": "[encoded data removed]",
      "text/plain": [
       "<Figure size 640x480 with 1 Axes>"
      ]
     },
     "metadata": {},
     "output_type": "display_data"
    }
   ],
   "source": [
    "# Your solution here\n",
    "region = set(df['HA'])\n",
    "print(region)\n",
    "\n",
    "sns.countplot(data = df, y = 'HA', hue = 'Sex', palette = 'magma')"
   ]
  },
  {
   "cell_type": "markdown",
   "metadata": {},
   "source": [
    "### 2.5: Data Wrangling I \n",
    "\n",
    "**Task: Add a new column to the dataframe to convert the \"Reported_Date\" column to a datetime object**\n",
    "\n",
    "To do this, first we need to add a new column to our dataset to turn the column \"Reported_Date\" into a proper datetime object so we can do operations on it.\n",
    "\n",
    "*Hint: Use to [to_datetime()](https://pandas.pydata.org/pandas-docs/stable/reference/api/pandas.to_datetime.html) function to help you first convert it into a datetime object, and then remove the timezone information and HH:MM:SS using [`.dt.date`](https://pandas.pydata.org/pandas-docs/stable/reference/api/pandas.Series.dt.date.html).*"
   ]
  },
  {
   "cell_type": "code",
   "execution_count": 50,
   "metadata": {},
   "outputs": [
    {
     "ename": "AttributeError",
     "evalue": "'Series' object has no attribute 'to_datetime'",
     "output_type": "error",
     "traceback": [
      "\u001b[1;31m---------------------------------------------------------------------------\u001b[0m",
      "\u001b[1;31mAttributeError\u001b[0m                            Traceback (most recent call last)",
      "Cell \u001b[1;32mIn [50], line 3\u001b[0m\n\u001b[0;32m      1\u001b[0m \u001b[38;5;66;03m# Your Solution here\u001b[39;00m\n\u001b[1;32m----> 3\u001b[0m dateTime \u001b[38;5;241m=\u001b[39m \u001b[43mdf\u001b[49m\u001b[43m[\u001b[49m\u001b[38;5;124;43m'\u001b[39;49m\u001b[38;5;124;43mReported_Date\u001b[39;49m\u001b[38;5;124;43m'\u001b[39;49m\u001b[43m]\u001b[49m\u001b[38;5;241;43m.\u001b[39;49m\u001b[43mto_datetime\u001b[49m()\u001b[38;5;241m.\u001b[39mdt\u001b[38;5;241m.\u001b[39mdate\n\u001b[0;32m      5\u001b[0m df[\u001b[38;5;124m'\u001b[39m\u001b[38;5;124mDate\u001b[39m\u001b[38;5;124m'\u001b[39m] \u001b[38;5;241m=\u001b[39m dateTime\n\u001b[0;32m      6\u001b[0m df\n",
      "File \u001b[1;32m~\\miniconda3\\lib\\site-packages\\pandas\\core\\generic.py:5575\u001b[0m, in \u001b[0;36mNDFrame.__getattr__\u001b[1;34m(self, name)\u001b[0m\n\u001b[0;32m   5568\u001b[0m \u001b[38;5;28;01mif\u001b[39;00m (\n\u001b[0;32m   5569\u001b[0m     name \u001b[38;5;129;01mnot\u001b[39;00m \u001b[38;5;129;01min\u001b[39;00m \u001b[38;5;28mself\u001b[39m\u001b[38;5;241m.\u001b[39m_internal_names_set\n\u001b[0;32m   5570\u001b[0m     \u001b[38;5;129;01mand\u001b[39;00m name \u001b[38;5;129;01mnot\u001b[39;00m \u001b[38;5;129;01min\u001b[39;00m \u001b[38;5;28mself\u001b[39m\u001b[38;5;241m.\u001b[39m_metadata\n\u001b[0;32m   5571\u001b[0m     \u001b[38;5;129;01mand\u001b[39;00m name \u001b[38;5;129;01mnot\u001b[39;00m \u001b[38;5;129;01min\u001b[39;00m \u001b[38;5;28mself\u001b[39m\u001b[38;5;241m.\u001b[39m_accessors\n\u001b[0;32m   5572\u001b[0m     \u001b[38;5;129;01mand\u001b[39;00m \u001b[38;5;28mself\u001b[39m\u001b[38;5;241m.\u001b[39m_info_axis\u001b[38;5;241m.\u001b[39m_can_hold_identifiers_and_holds_name(name)\n\u001b[0;32m   5573\u001b[0m ):\n\u001b[0;32m   5574\u001b[0m     \u001b[38;5;28;01mreturn\u001b[39;00m \u001b[38;5;28mself\u001b[39m[name]\n\u001b[1;32m-> 5575\u001b[0m \u001b[38;5;28;01mreturn\u001b[39;00m \u001b[38;5;28;43mobject\u001b[39;49m\u001b[38;5;241;43m.\u001b[39;49m\u001b[38;5;21;43m__getattribute__\u001b[39;49m\u001b[43m(\u001b[49m\u001b[38;5;28;43mself\u001b[39;49m\u001b[43m,\u001b[49m\u001b[43m \u001b[49m\u001b[43mname\u001b[49m\u001b[43m)\u001b[49m\n",
      "\u001b[1;31mAttributeError\u001b[0m: 'Series' object has no attribute 'to_datetime'"
     ]
    }
   ],
   "source": [
    "# Your Solution here\n"
   ]
  },
  {
   "cell_type": "markdown",
   "metadata": {},
   "source": [
    "### 2.6: Data Wrangling II\n",
    "\n",
    "**Task: Find the earliest reported case and the latest reported case of COVID-19 in the dataset**\n",
    "\n",
    "You should use the pandas .min() and .max() functions here, now that your date string is converted to a DateTime object.\n",
    "\n",
    "#### Sample Output\n",
    "\n",
    "> The earliest reported case of COVID-19 was: 2020-01-29 <br>\n",
    "> The latest reported case of COVID-19 was: 2020-10-14 <br>"
   ]
  },
  {
   "cell_type": "code",
   "execution_count": 8,
   "metadata": {},
   "outputs": [],
   "source": [
    "# Your Solution here"
   ]
  },
  {
   "cell_type": "markdown",
   "metadata": {},
   "source": [
    "### 2.7: Data Wrangling III \n",
    "\n",
    "**Task: Create a new column in the data frame called \"days_since\".**\n",
    "\n",
    "This column will be of type integer, and will simply show the days since the first reported case of COVID-19.\n",
    "\n",
    "*Hint: Subtracting the earliest reported date from the `Reported_Date_Object` column will get you most of the way there. After that, the only thing left to is to turn the result (a datetime object) into an integer using [`.dt.days`](https://pandas.pydata.org/pandas-docs/stable/reference/api/pandas.Series.dt.days.html?highlight=dt.days#pandas.Series.dt.days).*"
   ]
  },
  {
   "cell_type": "code",
   "execution_count": 9,
   "metadata": {},
   "outputs": [],
   "source": [
    "# Your Solution here"
   ]
  },
  {
   "cell_type": "markdown",
   "metadata": {},
   "source": [
    "### 2.8: Plot the COVID-19 cases plotted over time by sex\n",
    "\n",
    "Using `sns.displot`, plot the histogram of females and males cases over time.\n",
    "\n",
    "*Hint 1: [Here is a nice tutorial](https://seaborn.pydata.org/tutorial/distributions.html) of all the different options that are possible when creating a histogram.*\n",
    "\n",
    "#### Sample output\n",
    "<img src=\"images/hist.png\" width=\"600px\">"
   ]
  },
  {
   "cell_type": "code",
   "execution_count": 10,
   "metadata": {},
   "outputs": [],
   "source": [
    "# Your Solution here "
   ]
  },
  {
   "cell_type": "markdown",
   "metadata": {},
   "source": [
    "### 2.9: BONUS - For a bonus mark, move the legend to the top left of the plot\n",
    "\n",
    "*Remember, the maximum mark you can get on a lab is 100% and bonus marks cannot be \"moved\" to different assignments\"*"
   ]
  },
  {
   "cell_type": "code",
   "execution_count": 11,
   "metadata": {},
   "outputs": [],
   "source": [
    "# Your Solution here"
   ]
  },
  {
   "cell_type": "markdown",
   "metadata": {},
   "source": [
    "### 2.10: BONUS - For a bonus mark, order the Health authorities plot (2.4) on the y-axis \n",
    "\n",
    "You can order it by some metric (either alphabetically, or by total counts, or some other sensible metric).\n",
    "\n",
    "*Remember, the maximum mark you can get on a lab is 100% and bonus marks cannot be \"moved\" to different assignments\"*"
   ]
  },
  {
   "cell_type": "code",
   "execution_count": null,
   "metadata": {},
   "outputs": [],
   "source": [
    "# Your Solution here"
   ]
  }
 ],
 "metadata": {
  "kernelspec": {
   "display_name": "Python 3 (ipykernel)",
   "language": "python",
   "name": "python3"
  },
  "language_info": {
   "codemirror_mode": {
    "name": "ipython",
    "version": 3
   },
   "file_extension": ".py",
   "mimetype": "text/x-python",
   "name": "python",
   "nbconvert_exporter": "python",
   "pygments_lexer": "ipython3",
   "version": "3.9.12"
  },
  "vscode": {
   "interpreter": {
    "hash": "4a3006030bc8f073e17f416a7c98291111bc2dc23e3286a5e86c679c75d3e5ba"
   }
  }
 },
 "nbformat": 4,
 "nbformat_minor": 4
}
