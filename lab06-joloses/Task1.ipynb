{
 "cells": [
  {
   "cell_type": "markdown",
   "id": "6ba33610-01cf-4327-b2b7-00baede1a0a2",
   "metadata": {},
   "source": [
    "## Task 1 - Creating and Calling Functions\n",
    "\n",
    "### 1.1 - Average of a list\n",
    "\n",
    "Write a Python function that returns the average of a list of values, and then test it with a variety of inputs.\n",
    "\n",
    "**Restriction: I want you to write the average function yourself (from scratch), you cannot use `np.mean()`, `mean()`, or any other average function.**\n",
    "\n",
    "*Hint: Remember the mean of a function is just the sum of all the values, divided by the number of values in the list.*\n",
    "\n",
    "Requirements:\n",
    "\n",
    "- Create function with name ``avglist`` that accepts three parameters: \n",
    "    - ``lst`` - list of numbers (required parameter)\n",
    "    - ``low`` - miminum value (not inclusive). (optional parameter, default = 0)\n",
    "    - ``high`` - maximum value (not inclusive). (optional parameter default = 100)\n",
    "- Your function will calculate and return the average of all values in the range (``low``, ``high``).\n",
    "- Your function should have an appropriate docstring.\n",
    "- Call ``help(avglist)`` to display function information.\n",
    "- Create a list with the numbers 1 to 10 and call `avglist()` with default range and print the result.\n",
    "- Create a list with the numbers 1 to 100 and call `avglist()` with range (``20``, ``80``) and print result.\n",
    "- Create a list with 100 random numbers between 1 and 100 and call avglist() with range (``30``, ``100``) and print the result. Note: Will need to ``import random`` and use ``random.randint(1,100)``. \n",
    "\n",
    "Reminder: To set the seed, use `random.seed(100)`.\n",
    "\n",
    "#### Sample Output\n",
    "\n",
    "For this question, no sample input is provided.\n"
   ]
  },
  {
   "cell_type": "code",
   "execution_count": 17,
   "id": "c078c01f-c8e7-46df-9e71-48ee46237466",
   "metadata": {},
   "outputs": [],
   "source": [
    "#add your import statements here\n",
    "import random\n"
   ]
  },
  {
   "cell_type": "code",
   "execution_count": 29,
   "id": "041eb2b3-8b17-406e-abf4-9032795b6683",
   "metadata": {},
   "outputs": [],
   "source": [
    "# Your solution here\n",
    "\n",
    "def avglist(lst, low = 0, high = 100):\n",
    "    \"\"\"\n",
    "    Calculates and returns the average of all values within a given range, 'low' and 'high'\n",
    "    \n",
    "    Parameters\n",
    "    ----------\n",
    "    lst : list \n",
    "        The list of numbers to average\n",
    "    low : int (deafult = 0)\n",
    "        The low end of the range to start calculating from\n",
    "    high : int (deafult = 100)\n",
    "        The final integer of the range to stop calculating from\n",
    "    \n",
    "    Returns\n",
    "    -------\n",
    "    avg : The average of the given range in a given list\n",
    "    \n",
    "    Example\n",
    "    -------\n",
    "    >>> avglist([1,2,3,4,5,6,7,8,9], 1, 9)\n",
    "    5\n",
    "    \"\"\"\n",
    "    rangeAvg = [x for x in lst if x > low and x < high]\n",
    "    avg = sum(rangeAvg) / len(rangeAvg)\n",
    "    return avg"
   ]
  },
  {
   "cell_type": "code",
   "execution_count": 30,
   "id": "3b9b236f-0564-421f-a132-fbc928d2f4f7",
   "metadata": {},
   "outputs": [
    {
     "name": "stdout",
     "output_type": "stream",
     "text": [
      "Help on function avglist in module __main__:\n",
      "\n",
      "avglist(lst, low=0, high=100)\n",
      "    Calculates and returns the average of all values within a given range, 'low' and 'high'\n",
      "    \n",
      "    Parameters\n",
      "    ----------\n",
      "    lst : list \n",
      "        The list of numbers to average\n",
      "    low : int \n",
      "        The low end of the range to start calculating from\n",
      "    high : int \n",
      "        The final integer of the range to stop calculating from\n",
      "    \n",
      "    Returns\n",
      "    -------\n",
      "    avg : The average of the given range in a given list\n",
      "    \n",
      "    Example\n",
      "    -------\n",
      "    >>> avglist([1,2,3,4,5,6,7,8,9], 1, 9)\n",
      "    5\n",
      "\n",
      "First list: [1, 2, 3, 4, 5, 6, 7, 8, 9, 10]\n",
      "First list average: 5.5\n",
      "Second list: [1, 2, 3, 4, 5, 6, 7, 8, 9, 10, 11, 12, 13, 14, 15, 16, 17, 18, 19, 20, 21, 22, 23, 24, 25, 26, 27, 28, 29, 30, 31, 32, 33, 34, 35, 36, 37, 38, 39, 40, 41, 42, 43, 44, 45, 46, 47, 48, 49, 50, 51, 52, 53, 54, 55, 56, 57, 58, 59, 60, 61, 62, 63, 64, 65, 66, 67, 68, 69, 70, 71, 72, 73, 74, 75, 76, 77, 78, 79, 80, 81, 82, 83, 84, 85, 86, 87, 88, 89, 90, 91, 92, 93, 94, 95, 96, 97, 98, 99]\n",
      "Second list average: 50.0\n",
      "Third list: [35, 1, 35, 39, 5, 4, 72, 38, 30, 52, 2, 84, 11, 29, 39, 83, 83, 93, 81, 3, 12, 75, 46, 42, 87, 57, 5, 94, 99, 24, 11, 3, 89, 80, 46, 71, 19, 21, 90, 1, 88, 95, 2, 91, 41, 65, 51, 23, 49, 49, 94, 58, 26, 28, 21, 77, 74, 71, 35, 10, 81, 59, 82, 96, 18, 56, 75, 75, 65, 15, 84, 39, 17, 15, 75, 79, 29, 7, 51, 59, 56, 91, 45, 12, 9, 6, 57, 54, 3, 73, 20, 62, 14, 89, 12, 38, 81, 87, 13]\n",
      "Third list average: 67.57142857142857\n"
     ]
    }
   ],
   "source": [
    "help(avglist)\n",
    "\n",
    "list1 = [1,2,3,4,5,6,7,8,9,10]\n",
    "print(f\"First list: {list1}\")\n",
    "print(f\"First list average: {avglist(lst = list1)}\")\n",
    "\n",
    "list2 = list(range(1,100))\n",
    "print(f\"Second list: {list2}\")\n",
    "print(f\"Second list average: {avglist(lst = list2, low = 20, high = 80)}\")\n",
    "\n",
    "list3 = []\n",
    "for i in range(1,100):\n",
    "    randomNum = random.randint(1,100)\n",
    "    list3.append(randomNum)\n",
    "print(f\"Third list: {list3}\")\n",
    "print(f\"Third list average: {avglist(lst = list3, low = 30, high = 100)}\")"
   ]
  },
  {
   "cell_type": "code",
   "execution_count": null,
   "id": "b14e0753-f72f-45fb-9ba5-4f67eb56d10c",
   "metadata": {},
   "outputs": [],
   "source": []
  }
 ],
 "metadata": {
  "kernelspec": {
   "display_name": "Python 3 (ipykernel)",
   "language": "python",
   "name": "python3"
  },
  "language_info": {
   "codemirror_mode": {
    "name": "ipython",
    "version": 3
   },
   "file_extension": ".py",
   "mimetype": "text/x-python",
   "name": "python",
   "nbconvert_exporter": "python",
   "pygments_lexer": "ipython3",
   "version": "3.9.12"
  }
 },
 "nbformat": 4,
 "nbformat_minor": 5
}
