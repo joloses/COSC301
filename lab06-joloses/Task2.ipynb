{
 "cells": [
  {
   "cell_type": "markdown",
   "id": "6ba33610-01cf-4327-b2b7-00baede1a0a2",
   "metadata": {},
   "source": [
    "## Task 2 - Creating and Calling Functions\n",
    "\n",
    "### 2.1 - Calculating Taxes\n",
    "\n",
    "Write a Python function called `calc_tax()` that calculates and prints the tax on a purchased item.\n",
    "The input of this function should be the name of the item (a string), and the pre-tax price of the item (a number).\n",
    "\n",
    "Requirements:\n",
    "\n",
    "- Add a docstring to this function so users know how to use it.\n",
    "- Calculate the provincial tax (5%) federal tax (7%), and store them as separate variables.\n",
    "- Choose one: \n",
    "    - A) Add at least two assert statements as tests for your code OR \n",
    "    - B) Use try/except statements to test for inputs to the function.\n",
    "- Print the item amount, the provincial tax, the federal tax, and the total with all taxes included.\n",
    "- Round tax amounts, and the final price to the nearest cent and display with exactly two decimal points.\n",
    "\n",
    "#### Sample Output\n",
    "\n",
    "> \\>\\> calc_tax('candy', 10) # Run the `calc_tax()` function on candy to get the following output\n",
    "> \n",
    "> candy\n",
    ">\n",
    "> pre-tax price of: \\$10.00\n",
    "> \n",
    "> provincial tax: \\$0.50\n",
    "> \n",
    "> federal tax: \\$0.70\n",
    "> \n",
    "> total price of: $11.20\n"
   ]
  },
  {
   "cell_type": "code",
   "execution_count": null,
   "id": "c078c01f-c8e7-46df-9e71-48ee46237466",
   "metadata": {},
   "outputs": [],
   "source": [
    "#add your import statements here\n",
    "\n",
    "\n"
   ]
  },
  {
   "cell_type": "code",
   "execution_count": 2,
   "id": "041eb2b3-8b17-406e-abf4-9032795b6683",
   "metadata": {},
   "outputs": [],
   "source": [
    "# Your solution here\n",
    "\n",
    "def calc_tax(item, pricePreTax):\n",
    "    \"\"\"\n",
    "    Calculates the provincial and federal tax of a given item and a given base price, then adds it all together.\n",
    "    \n",
    "    Parameters \n",
    "    ----------\n",
    "    item : string\n",
    "        The item to be taxed\n",
    "    pricePreTax : float\n",
    "        The price of the given item before taxes.\n",
    "        \n",
    "    Returns\n",
    "    -------\n",
    "    Does not return anything, but runs the print function displaying the item and tax information\n",
    "    \n",
    "    Example\n",
    "    -------\n",
    "    >>> calc_tax('candy', 10)\n",
    "    Item: candy\n",
    "\n",
    "    Pre-tax price of candy: $10.00\n",
    "\n",
    "    Provincial tax: $0.50\n",
    "\n",
    "    Pederal tax: $0.70\n",
    "\n",
    "    Total price of candy: $11.20\n",
    "    \n",
    "    \"\"\"\n",
    "    assert pricePreTax > 0 , \"Can't calculate the tax with a base price of anything less than or equal to 0!\"\n",
    "    assert item.lower() != 'gift card', \"Gift cards do not get taxed!\"\n",
    "    \n",
    "    print(f\"Item: {item}\\n\")\n",
    "    print(f\"Pre-tax price of {item}: ${pricePreTax:.2f}\\n\")\n",
    "    \n",
    "    provTax = pricePreTax * 0.05\n",
    "    fedTax = pricePreTax * 0.07\n",
    "    \n",
    "    \n",
    "    print(f\"Provincial tax: ${provTax:.2f}\\n\")\n",
    "    print(f\"Pederal tax: ${fedTax:.2f}\\n\")\n",
    "    \n",
    "    totalPrice = pricePreTax + provTax + fedTax\n",
    "    print(f\"Total price of {item}: ${totalPrice:.2f}\")\n"
   ]
  },
  {
   "cell_type": "code",
   "execution_count": 6,
   "id": "0a15cf2e-151d-4182-be31-32c8d57320ed",
   "metadata": {},
   "outputs": [
    {
     "name": "stdout",
     "output_type": "stream",
     "text": [
      "Item: candy\n",
      "\n",
      "Pre-tax price of candy: $10.00\n",
      "\n",
      "Provincial tax: $0.50\n",
      "\n",
      "Pederal tax: $0.70\n",
      "\n",
      "Total price of candy: $11.20\n"
     ]
    }
   ],
   "source": [
    "calc_tax('candy', 10)"
   ]
  },
  {
   "cell_type": "code",
   "execution_count": null,
   "id": "847a6f5f-70e2-4db5-915a-fbabcaad68a0",
   "metadata": {},
   "outputs": [],
   "source": []
  }
 ],
 "metadata": {
  "kernelspec": {
   "display_name": "Python 3 (ipykernel)",
   "language": "python",
   "name": "python3"
  },
  "language_info": {
   "codemirror_mode": {
    "name": "ipython",
    "version": 3
   },
   "file_extension": ".py",
   "mimetype": "text/x-python",
   "name": "python",
   "nbconvert_exporter": "python",
   "pygments_lexer": "ipython3",
   "version": "3.9.12"
  }
 },
 "nbformat": 4,
 "nbformat_minor": 5
}
