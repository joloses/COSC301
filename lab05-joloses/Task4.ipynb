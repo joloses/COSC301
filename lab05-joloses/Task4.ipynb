{
 "cells": [
  {
   "cell_type": "markdown",
   "id": "ceb6d4d0-02a0-4991-bfd2-6bd3d65cacf9",
   "metadata": {},
   "source": [
    "# Task 4 - Dictionaries, Lists and data manipulation\n",
    "\n",
    "In this part we explore another fundamental data structure in python, called Dictionaries."
   ]
  },
  {
   "cell_type": "markdown",
   "id": "d4e11385-1aa8-4626-aba6-e2182ea87d18",
   "metadata": {},
   "source": [
    "### 4.1: Create a dictionary that has 3 keys: name, age and salary, and enter in the following dummy information.\n",
    "\n",
    "#### Sample output\n",
    "> {'name': 'Tim Cook', 'age': 59, 'salary': 3000000.0}"
   ]
  },
  {
   "cell_type": "code",
   "execution_count": 2,
   "id": "49238d2f-0ce1-4677-858b-24996ac90051",
   "metadata": {},
   "outputs": [
    {
     "name": "stdout",
     "output_type": "stream",
     "text": [
      "{'name': 'Tim Cook', 'age': '59', 'salary': 3000000.0}\n"
     ]
    }
   ],
   "source": [
    "#Your Solution Here\n",
    "\n",
    "dict = {\n",
    "    \"name\": \"Tim Cook\" ,\n",
    "    \"age\": \"59\" ,\n",
    "    \"salary\": 3000000.0\n",
    "}\n",
    "\n",
    "print(dict)\n"
   ]
  },
  {
   "cell_type": "markdown",
   "id": "41639b9a-af4a-4e2c-ae96-2ef81df91d5b",
   "metadata": {},
   "source": [
    "### 4.2: Create a second dictionary, this time with at least 5 different names, ages, and salaries.\n",
    "\n",
    "*Hint: There should only be three keys, and the values should be a list.*\n",
    "\n",
    "#### Sample Output\n",
    "\n",
    "> {'name': ['Tim Cook', 'Person 2', 'Person 3'],\n",
    "> 'age': [59, 24, 40],\n",
    "> 'salary': [30000000.0, 200000.0, 900000.0]}"
   ]
  },
  {
   "cell_type": "code",
   "execution_count": 5,
   "id": "0fe655ba-7bd2-4fc4-af56-06d76a989e60",
   "metadata": {},
   "outputs": [
    {
     "name": "stdout",
     "output_type": "stream",
     "text": [
      "{'name': ['Tim Cook', 'Person 2', 'Person 3', 'Person 4', 'Person 5'], 'age': ['59', '24', '40', '12', '33'], 'salary': [3000000.0, 200000.0, 900000.0, 12.32, 143.2]}\n"
     ]
    }
   ],
   "source": [
    "#Your Solution Here\n",
    "\n",
    "dict2 = {\n",
    "    \"name\": [\"Tim Cook\",\"Person 2\", \"Person 3\", \"Person 4\", \"Person 5\"] ,\n",
    "    \"age\" : [\"59\",\"24\",\"40\",\"12\",\"33\"] ,\n",
    "    \"salary\":[3000000.0,200000.0,900000.0,12.32,143.2]\n",
    "}\n",
    "\n",
    "print(dict2)"
   ]
  },
  {
   "cell_type": "markdown",
   "id": "4f1701ad-a734-46c1-a5ad-0bf6dfb6ddfc",
   "metadata": {},
   "source": [
    "### 4.3: Create a pandas dataframe using the dictionary you created above\n",
    "\n",
    "**Hint: Use the `pd.DataFrame.from_dict()` method**\n",
    "\n",
    "#### Sample output\n",
    "![](images/df.png)"
   ]
  },
  {
   "cell_type": "code",
   "execution_count": 7,
   "id": "c5b14545-9570-4f74-867c-cc18dd745939",
   "metadata": {},
   "outputs": [
    {
     "data": {
      "text/html": [
       "<div>\n",
       "<style scoped>\n",
       "    .dataframe tbody tr th:only-of-type {\n",
       "        vertical-align: middle;\n",
       "    }\n",
       "\n",
       "    .dataframe tbody tr th {\n",
       "        vertical-align: top;\n",
       "    }\n",
       "\n",
       "    .dataframe thead th {\n",
       "        text-align: right;\n",
       "    }\n",
       "</style>\n",
       "<table border=\"1\" class=\"dataframe\">\n",
       "  <thead>\n",
       "    <tr style=\"text-align: right;\">\n",
       "      <th></th>\n",
       "      <th>name</th>\n",
       "      <th>age</th>\n",
       "      <th>salary</th>\n",
       "    </tr>\n",
       "  </thead>\n",
       "  <tbody>\n",
       "    <tr>\n",
       "      <th>0</th>\n",
       "      <td>Tim Cook</td>\n",
       "      <td>59</td>\n",
       "      <td>3000000.00</td>\n",
       "    </tr>\n",
       "    <tr>\n",
       "      <th>1</th>\n",
       "      <td>Person 2</td>\n",
       "      <td>24</td>\n",
       "      <td>200000.00</td>\n",
       "    </tr>\n",
       "    <tr>\n",
       "      <th>2</th>\n",
       "      <td>Person 3</td>\n",
       "      <td>40</td>\n",
       "      <td>900000.00</td>\n",
       "    </tr>\n",
       "    <tr>\n",
       "      <th>3</th>\n",
       "      <td>Person 4</td>\n",
       "      <td>12</td>\n",
       "      <td>12.32</td>\n",
       "    </tr>\n",
       "    <tr>\n",
       "      <th>4</th>\n",
       "      <td>Person 5</td>\n",
       "      <td>33</td>\n",
       "      <td>143.20</td>\n",
       "    </tr>\n",
       "  </tbody>\n",
       "</table>\n",
       "</div>"
      ],
      "text/plain": [
       "       name age      salary\n",
       "0  Tim Cook  59  3000000.00\n",
       "1  Person 2  24   200000.00\n",
       "2  Person 3  40   900000.00\n",
       "3  Person 4  12       12.32\n",
       "4  Person 5  33      143.20"
      ]
     },
     "execution_count": 7,
     "metadata": {},
     "output_type": "execute_result"
    }
   ],
   "source": [
    "#Your Solution Here\n",
    "import pandas as pd\n",
    "df = pd.DataFrame.from_dict(dict2)\n",
    "df"
   ]
  },
  {
   "cell_type": "markdown",
   "id": "1702b529-4aac-4052-91fa-c5fd285f742b",
   "metadata": {},
   "source": [
    "### 4.4: Rename all three columns of the dataframe\n",
    "\n",
    "*Hint: you should use the pandas function [rename()](https://pandas.pydata.org/pandas-docs/stable/reference/api/pandas.DataFrame.rename.html) to accomplish this. You can rename it to whatever you like, just show us you are able to use this function*\n"
   ]
  },
  {
   "cell_type": "code",
   "execution_count": 11,
   "id": "28240cd0-b721-4453-86e6-49d339f98ccc",
   "metadata": {},
   "outputs": [
    {
     "data": {
      "text/html": [
       "<div>\n",
       "<style scoped>\n",
       "    .dataframe tbody tr th:only-of-type {\n",
       "        vertical-align: middle;\n",
       "    }\n",
       "\n",
       "    .dataframe tbody tr th {\n",
       "        vertical-align: top;\n",
       "    }\n",
       "\n",
       "    .dataframe thead th {\n",
       "        text-align: right;\n",
       "    }\n",
       "</style>\n",
       "<table border=\"1\" class=\"dataframe\">\n",
       "  <thead>\n",
       "    <tr style=\"text-align: right;\">\n",
       "      <th></th>\n",
       "      <th>Name</th>\n",
       "      <th>Age</th>\n",
       "      <th>Salary</th>\n",
       "    </tr>\n",
       "  </thead>\n",
       "  <tbody>\n",
       "    <tr>\n",
       "      <th>0</th>\n",
       "      <td>Tim Cook</td>\n",
       "      <td>59</td>\n",
       "      <td>3000000.00</td>\n",
       "    </tr>\n",
       "    <tr>\n",
       "      <th>1</th>\n",
       "      <td>Person 2</td>\n",
       "      <td>24</td>\n",
       "      <td>200000.00</td>\n",
       "    </tr>\n",
       "    <tr>\n",
       "      <th>2</th>\n",
       "      <td>Person 3</td>\n",
       "      <td>40</td>\n",
       "      <td>900000.00</td>\n",
       "    </tr>\n",
       "    <tr>\n",
       "      <th>3</th>\n",
       "      <td>Person 4</td>\n",
       "      <td>12</td>\n",
       "      <td>12.32</td>\n",
       "    </tr>\n",
       "    <tr>\n",
       "      <th>4</th>\n",
       "      <td>Person 5</td>\n",
       "      <td>33</td>\n",
       "      <td>143.20</td>\n",
       "    </tr>\n",
       "  </tbody>\n",
       "</table>\n",
       "</div>"
      ],
      "text/plain": [
       "       Name Age      Salary\n",
       "0  Tim Cook  59  3000000.00\n",
       "1  Person 2  24   200000.00\n",
       "2  Person 3  40   900000.00\n",
       "3  Person 4  12       12.32\n",
       "4  Person 5  33      143.20"
      ]
     },
     "execution_count": 11,
     "metadata": {},
     "output_type": "execute_result"
    }
   ],
   "source": [
    "# Your Solution Here\n",
    "\n",
    "df = df.rename(columns={'name':'Name', 'age':'Age', 'salary':'Salary'})\n",
    "df"
   ]
  },
  {
   "cell_type": "code",
   "execution_count": null,
   "id": "e72e82ea-e62a-481c-a03c-56c405c11b2b",
   "metadata": {},
   "outputs": [],
   "source": []
  }
 ],
 "metadata": {
  "kernelspec": {
   "display_name": "Python 3 (ipykernel)",
   "language": "python",
   "name": "python3"
  },
  "language_info": {
   "codemirror_mode": {
    "name": "ipython",
    "version": 3
   },
   "file_extension": ".py",
   "mimetype": "text/x-python",
   "name": "python",
   "nbconvert_exporter": "python",
   "pygments_lexer": "ipython3",
   "version": "3.9.12"
  },
  "vscode": {
   "interpreter": {
    "hash": "4a3006030bc8f073e17f416a7c98291111bc2dc23e3286a5e86c679c75d3e5ba"
   }
  }
 },
 "nbformat": 4,
 "nbformat_minor": 5
}
