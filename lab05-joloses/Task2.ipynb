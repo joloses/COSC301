{
 "cells": [
  {
   "cell_type": "markdown",
   "id": "0c46a4ac-1442-4e54-8b2e-19fe795c4125",
   "metadata": {
    "tags": []
   },
   "source": [
    "# Task 2: Reflecting on merge types\n"
   ]
  },
  {
   "cell_type": "code",
   "execution_count": 1,
   "id": "2df91ab0-dcd7-46a2-b6bc-07964473543c",
   "metadata": {},
   "outputs": [],
   "source": [
    "import pandas as pd"
   ]
  },
  {
   "cell_type": "markdown",
   "id": "aec2370b",
   "metadata": {
    "tags": []
   },
   "source": [
    "\n",
    "### Task 2.1 - Table\n",
    "\n",
    "The first part of this question is to fill out a table in words. For each merge type, write a sentence or two to explain each merge type. "
   ]
  },
  {
   "cell_type": "markdown",
   "id": "0dded523-3990-4590-a391-7c479e6d3e87",
   "metadata": {
    "jp-MarkdownHeadingCollapsed": true,
    "tags": []
   },
   "source": [
    "#### Table To Fill In:\n",
    "Definition Source: (https://pandas.pydata.org/docs/reference/api/pandas.merge.html)\n",
    "\n",
    "| Merge Type | Explanation |\n",
    "| ---------- | ----------- |\n",
    "| Left join  | # Uses only keys from the left frame and preserve the key order. |\n",
    "| Right join | # Uses only keys from the right frame and preserve the key order. |\n",
    "| Outer join | # Uses union of keys from both frames and sorts the keys lexicographically. |\n",
    "| Inner join | # Uses intersection keys from both frames and preserves the left key order. |\n",
    "| Cross join | # Creates the cartesian product from both frames and preserves the left key order. |\n"
   ]
  },
  {
   "cell_type": "markdown",
   "id": "2d8d7d19-8158-4242-bc6d-e512392eb2f6",
   "metadata": {
    "tags": []
   },
   "source": [
    "### Task 2.2 - Visualization\n",
    "\n",
    "The second part of this question is to find (with citation) or create a diagram to explain the merge types visually.\n",
    "\n",
    "Find (or create/sketch) a visualization/graphic/picture that makes sense to you on the different types of join, and explain it (in words) so you can crystallize your understanding of the merge types and how they work practically.\n",
    "\n",
    "**Note: Please clearly cite and reference any graphic with a link and some text that you choose to use from external sources.**"
   ]
  },
  {
   "cell_type": "markdown",
   "id": "66bb7108-25d3-420c-9579-91506ff00737",
   "metadata": {
    "tags": []
   },
   "source": [
    "##### Your Solution Here (Switch this to a markdown cell, and make sure you include an image using `![](img.png)`)\n",
    "\n",
    "![](https://miro.medium.com/max/752/0*ZGDgg-0SznYlwiij.png)"
   ]
  },
  {
   "cell_type": "markdown",
   "id": "5fd3a724-cbed-466c-8f81-0b79a568652d",
   "metadata": {},
   "source": [
    "Photo source: https://medium.com/analytics-vidhya/python-tip-6-pandas-merge-dev-skrol-bf0be41f29b7\n",
    "\n",
    "Explanation: Left merge: Takes all of the dataframe on the left and the similar data frames from the left and right.\n",
    "             Right merge: Takes all the data frame on the right and the similar data frames from the right and left.\n",
    "             Inner merge: Takes only the similar data frames from the left and right.\n",
    "             Outer merge: Takes all of the data frames from the left and right."
   ]
  }
 ],
 "metadata": {
  "kernelspec": {
   "display_name": "Python 3 (ipykernel)",
   "language": "python",
   "name": "python3"
  },
  "language_info": {
   "codemirror_mode": {
    "name": "ipython",
    "version": 3
   },
   "file_extension": ".py",
   "mimetype": "text/x-python",
   "name": "python",
   "nbconvert_exporter": "python",
   "pygments_lexer": "ipython3",
   "version": "3.9.12"
  },
  "vscode": {
   "interpreter": {
    "hash": "4a3006030bc8f073e17f416a7c98291111bc2dc23e3286a5e86c679c75d3e5ba"
   }
  }
 },
 "nbformat": 4,
 "nbformat_minor": 5
}
